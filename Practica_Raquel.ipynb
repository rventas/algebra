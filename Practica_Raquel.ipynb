{
 "cells": [
  {
   "cell_type": "markdown",
   "metadata": {},
   "source": [
    "# Practica de Algebra lineal\n",
    "\n",
    "### *Nombre*"
   ]
  },
  {
   "cell_type": "code",
   "execution_count": 1,
   "metadata": {},
   "outputs": [],
   "source": [
    "import numpy as np"
   ]
  },
  {
   "cell_type": "markdown",
   "metadata": {},
   "source": [
    "<span style=\"color:blue\">Ejercicio 1:  \n",
    "Usando los procedimientos add y mult_vector_escalar definidos anteriormente, calcular:   \n",
    "{$\\alpha$[1,2]+[3,4] : $\\alpha$$\\in$$\\mathbb{R}$, 0$\\leq$$\\alpha$$\\leq$1, con una precision de dos decimales (para la multiplicación)}</style>"
   ]
  },
  {
   "cell_type": "code",
   "execution_count": 2,
   "metadata": {},
   "outputs": [],
   "source": [
    "def addn(v,w):\n",
    "    return[v[i]+w[i] for i in range(len(v))]"
   ]
  },
  {
   "cell_type": "code",
   "execution_count": 3,
   "metadata": {},
   "outputs": [],
   "source": [
    "def mult_vector_escalar(alpha, v):\n",
    "    return [alpha*v[i] for i in range(len(v))]"
   ]
  },
  {
   "cell_type": "code",
   "execution_count": 4,
   "metadata": {},
   "outputs": [],
   "source": [
    "def mult_y_suma(v, w):\n",
    "    return [addn(mult_vector_escalar(alpha,v),w) for alpha in np.arange(0, 1.01, 0.01)]"
   ]
  },
  {
   "cell_type": "code",
   "execution_count": 5,
   "metadata": {},
   "outputs": [
    {
     "data": {
      "text/plain": [
       "[[3.0, 4.0],\n",
       " [3.01, 4.02],\n",
       " [3.02, 4.04],\n",
       " [3.03, 4.06],\n",
       " [3.04, 4.08],\n",
       " [3.05, 4.1],\n",
       " [3.06, 4.12],\n",
       " [3.07, 4.14],\n",
       " [3.08, 4.16],\n",
       " [3.09, 4.18],\n",
       " [3.1, 4.2],\n",
       " [3.11, 4.22],\n",
       " [3.12, 4.24],\n",
       " [3.13, 4.26],\n",
       " [3.14, 4.28],\n",
       " [3.15, 4.3],\n",
       " [3.16, 4.32],\n",
       " [3.17, 4.34],\n",
       " [3.18, 4.36],\n",
       " [3.19, 4.38],\n",
       " [3.2, 4.4],\n",
       " [3.21, 4.42],\n",
       " [3.22, 4.44],\n",
       " [3.23, 4.46],\n",
       " [3.24, 4.48],\n",
       " [3.25, 4.5],\n",
       " [3.26, 4.52],\n",
       " [3.27, 4.54],\n",
       " [3.2800000000000002, 4.5600000000000005],\n",
       " [3.29, 4.58],\n",
       " [3.3, 4.6],\n",
       " [3.31, 4.62],\n",
       " [3.32, 4.64],\n",
       " [3.33, 4.66],\n",
       " [3.34, 4.68],\n",
       " [3.35, 4.7],\n",
       " [3.36, 4.72],\n",
       " [3.37, 4.74],\n",
       " [3.38, 4.76],\n",
       " [3.39, 4.78],\n",
       " [3.4, 4.8],\n",
       " [3.41, 4.82],\n",
       " [3.42, 4.84],\n",
       " [3.43, 4.86],\n",
       " [3.44, 4.88],\n",
       " [3.45, 4.9],\n",
       " [3.46, 4.92],\n",
       " [3.47, 4.94],\n",
       " [3.48, 4.96],\n",
       " [3.49, 4.98],\n",
       " [3.5, 5.0],\n",
       " [3.51, 5.02],\n",
       " [3.52, 5.04],\n",
       " [3.5300000000000002, 5.0600000000000005],\n",
       " [3.54, 5.08],\n",
       " [3.55, 5.1],\n",
       " [3.56, 5.12],\n",
       " [3.5700000000000003, 5.140000000000001],\n",
       " [3.58, 5.16],\n",
       " [3.59, 5.18],\n",
       " [3.6, 5.2],\n",
       " [3.61, 5.22],\n",
       " [3.62, 5.24],\n",
       " [3.63, 5.26],\n",
       " [3.64, 5.28],\n",
       " [3.65, 5.3],\n",
       " [3.66, 5.32],\n",
       " [3.67, 5.34],\n",
       " [3.68, 5.36],\n",
       " [3.69, 5.38],\n",
       " [3.7, 5.4],\n",
       " [3.71, 5.42],\n",
       " [3.7199999999999998, 5.4399999999999995],\n",
       " [3.73, 5.46],\n",
       " [3.74, 5.48],\n",
       " [3.75, 5.5],\n",
       " [3.76, 5.52],\n",
       " [3.77, 5.54],\n",
       " [3.7800000000000002, 5.5600000000000005],\n",
       " [3.79, 5.58],\n",
       " [3.8, 5.6],\n",
       " [3.81, 5.62],\n",
       " [3.8200000000000003, 5.640000000000001],\n",
       " [3.83, 5.66],\n",
       " [3.84, 5.68],\n",
       " [3.85, 5.7],\n",
       " [3.86, 5.72],\n",
       " [3.87, 5.74],\n",
       " [3.88, 5.76],\n",
       " [3.89, 5.78],\n",
       " [3.9, 5.8],\n",
       " [3.91, 5.82],\n",
       " [3.92, 5.84],\n",
       " [3.93, 5.86],\n",
       " [3.94, 5.88],\n",
       " [3.95, 5.9],\n",
       " [3.96, 5.92],\n",
       " [3.9699999999999998, 5.9399999999999995],\n",
       " [3.98, 5.96],\n",
       " [3.99, 5.98],\n",
       " [4.0, 6.0]]"
      ]
     },
     "execution_count": 5,
     "metadata": {},
     "output_type": "execute_result"
    }
   ],
   "source": [
    "v = [1,2]\n",
    "w = [3,4]\n",
    "mult_y_suma(v,w)"
   ]
  },
  {
   "cell_type": "markdown",
   "metadata": {},
   "source": [
    "<span style=\"color:blue\">Ejercicio 2:  \n",
    "Mortadelo y Filemón usan como clave el siguiente vector:</style>  \n",
    "> <span style=\"color:blue\">**k**=[0,1,0,0,1,0,1,0,1,0]</style>  \n",
    "\n",
    "<span style=\"color:blue\">Mortadelo quiere enviarle a Filemón el siguiente mensaje:</style>  \n",
    "> <span style=\"color:blue\">**p**=[0,0,0,1,1,1,0,1,0,1]</style>  \n",
    "\n",
    "<span style=\"color:blue\">Mortadelo encripta su mensaje añadiendo k:</style>  \n",
    "> <span style=\"color:blue\">**c**=**p**+**k**=[0,0,0,1,1,1,0,1,0,1]+[0,1,0,0,1,0,1,0,1,0]=[0,1,0,1,0,1,1,1,1,1]</style>  \n",
    "\n",
    "<span style=\"color:blue\">Cuando Filemón recibe el mensaje, lo desencripta añadiendo **k** a lo que ha recibido</style>  \n",
    "> <span style=\"color:blue\">**p**=**c**+**k**=[0,1,0,1,0,1,1,1,1,1]+[0,1,0,0,1,0,1,0,1,0]=[0,0,0,1,1,1,0,1,0,1]</style>    \n",
    "\n",
    "<span style=\"color:blue\">que es el mensaje original</style>    \n",
    "  \n",
    " <span style=\"color:blue\">¿Cómo lo harías en Python? (Definiendo un procedimiento)</style>  "
   ]
  },
  {
   "cell_type": "code",
   "execution_count": 6,
   "metadata": {},
   "outputs": [],
   "source": [
    "def suma_galois(u,v):\n",
    "    return [(u[i]+v[i])%2 for i in range(len(u))]"
   ]
  },
  {
   "cell_type": "code",
   "execution_count": 7,
   "metadata": {},
   "outputs": [],
   "source": [
    "#k es la clave que usan Mortadelo y Filemón\n",
    "k=[0,1,0,0,1,0,1,0,1,0]\n",
    "#p es el mensaje que Mortadelo le quiere enviar a Filemón\n",
    "p=[0,0,0,1,1,1,0,1,0,1]"
   ]
  },
  {
   "cell_type": "code",
   "execution_count": 8,
   "metadata": {},
   "outputs": [
    {
     "data": {
      "text/plain": [
       "[0, 1, 0, 1, 0, 1, 1, 1, 1, 1]"
      ]
     },
     "execution_count": 8,
     "metadata": {},
     "output_type": "execute_result"
    }
   ],
   "source": [
    "#c es el mensaje que recibe Filemón (Mortadelo ha encriptado el mensaje haciendo p+k)\n",
    "c = suma_galois(p,k)\n",
    "c"
   ]
  },
  {
   "cell_type": "code",
   "execution_count": 9,
   "metadata": {},
   "outputs": [
    {
     "data": {
      "text/plain": [
       "[0, 0, 0, 1, 1, 1, 0, 1, 0, 1]"
      ]
     },
     "execution_count": 9,
     "metadata": {},
     "output_type": "execute_result"
    }
   ],
   "source": [
    "#Cuando lo recibe, Filemón vuelve a añadir k para obtener el mensaje original p\n",
    "p = suma_galois(c,k)\n",
    "p"
   ]
  },
  {
   "cell_type": "markdown",
   "metadata": {},
   "source": [
    "<span style=\"color:blue\">Ejercicio 3: coste total o beneficio. </style>\n",
    "\n",
    "<span style=\"color:blue\">Supongamos que D es el conjunto de algunos ingredientes de la cerveza: </style>\n",
    "> <span style=\"color:blue\">D={lúpulo, malta, agua, levadura}</style>  \n",
    "\n",
    "<span style=\"color:blue\">Por otro lado tenemos el vector coste:</style>  \n",
    "> <span style=\"color:blue\">coste={lúpulo: 2,5€, malta: 1.5€, agua: 0.006€, levadura: 0,45€}</style>  \n",
    "\n",
    "<span style=\"color:blue\">Por último tenemos el vector cantidad con lo necesario para hacer una cerveza:</style>  \n",
    "> <span style=\"color:blue\">cantidad={lúpulo: 6u, malta: 14u, agua: 7u, levadura: 11u}</style>  \n",
    "\n",
    "<span style=\"color:blue\">¿Cuánto cuesta hacer una cerveza?</style> "
   ]
  },
  {
   "cell_type": "code",
   "execution_count": 10,
   "metadata": {},
   "outputs": [],
   "source": [
    "D=['lupulo', 'malta', 'agua', 'levadura']\n",
    "coste={'lupulo': 2.5, 'malta': 1.5, 'agua': 0.006, 'levadura': 0.45}\n",
    "cantidad={'lupulo': 6, 'malta': 14, 'agua': 7, 'levadura': 11}"
   ]
  },
  {
   "cell_type": "code",
   "execution_count": 11,
   "metadata": {},
   "outputs": [],
   "source": [
    "def coste_fabricar(D,u,v):\n",
    "    return sum(u[d]*v[d] for d in D)"
   ]
  },
  {
   "cell_type": "code",
   "execution_count": 12,
   "metadata": {},
   "outputs": [
    {
     "name": "stdout",
     "output_type": "stream",
     "text": [
      "El coste de fabricar una cerveza es: 40.992000000000004 euros\n"
     ]
    }
   ],
   "source": [
    "print('El coste de fabricar una cerveza es:', coste_fabricar(D,coste,cantidad), 'euros')"
   ]
  },
  {
   "cell_type": "markdown",
   "metadata": {},
   "source": [
    "<span style=\"color:blue\"> Ejercicio 4:   \n",
    "¿Cómo escribirías cada uno de los vectores {[3,0,0],[0,2,0],[0,0,1]} como combinación lineal de {[2,0,1],[1,0,2],[2,2,2]}?\n",
    "Escribe las combinaciones lineales en Python. Seguramente tenga que definir una nueva suma.</style>"
   ]
  },
  {
   "cell_type": "code",
   "execution_count": 13,
   "metadata": {},
   "outputs": [],
   "source": [
    "def suma3vectores(u,v,w):\n",
    "    return[u[i]+v[i]+w[i] for i in range(len(v))]"
   ]
  },
  {
   "cell_type": "code",
   "execution_count": 14,
   "metadata": {},
   "outputs": [
    {
     "data": {
      "text/plain": [
       "matrix([[ 2.],\n",
       "        [-1.],\n",
       "        [ 0.]])"
      ]
     },
     "execution_count": 14,
     "metadata": {},
     "output_type": "execute_result"
    }
   ],
   "source": [
    "#Como ya conozco el método solve, me ahorro calcular a mano los coeficientes ;-)\n",
    "M = np.matrix([\n",
    "    [2,1,2],\n",
    "    [0,0,2],\n",
    "    [1,2,2]\n",
    "])\n",
    "V = np.matrix([\n",
    "    [3],\n",
    "    [0],\n",
    "    [0]\n",
    "])\n",
    "np.linalg.solve(M,V)"
   ]
  },
  {
   "cell_type": "code",
   "execution_count": 15,
   "metadata": {},
   "outputs": [
    {
     "data": {
      "text/plain": [
       "[3, 0, 0]"
      ]
     },
     "execution_count": 15,
     "metadata": {},
     "output_type": "execute_result"
    }
   ],
   "source": [
    "#Esto mismo echo con el método suma3vectores sería:\n",
    "u=[2,0,1]\n",
    "v=[1,0,2]\n",
    "w=[2,2,2]\n",
    "suma3vectores(mult_vector_escalar(2,u),mult_vector_escalar(-1,v),mult_vector_escalar(0,w))"
   ]
  },
  {
   "cell_type": "code",
   "execution_count": 16,
   "metadata": {},
   "outputs": [
    {
     "data": {
      "text/plain": [
       "matrix([[-0.66666667],\n",
       "        [-0.66666667],\n",
       "        [ 1.        ]])"
      ]
     },
     "execution_count": 16,
     "metadata": {},
     "output_type": "execute_result"
    }
   ],
   "source": [
    "M = np.matrix([\n",
    "    [2,1,2],\n",
    "    [0,0,2],\n",
    "    [1,2,2]\n",
    "])\n",
    "V = np.matrix([\n",
    "    [0],\n",
    "    [2],\n",
    "    [0]\n",
    "])\n",
    "np.linalg.solve(M,V)"
   ]
  },
  {
   "cell_type": "code",
   "execution_count": 17,
   "metadata": {},
   "outputs": [
    {
     "data": {
      "text/plain": [
       "[0.0, 2.0, 0.0]"
      ]
     },
     "execution_count": 17,
     "metadata": {},
     "output_type": "execute_result"
    }
   ],
   "source": [
    "#Igual que antes, usando el método de suma3vectores\n",
    "suma3vectores(mult_vector_escalar(-2/3,u),mult_vector_escalar(-2/3,v),mult_vector_escalar(1,w))"
   ]
  },
  {
   "cell_type": "code",
   "execution_count": 18,
   "metadata": {},
   "outputs": [
    {
     "data": {
      "text/plain": [
       "matrix([[-0.33333333],\n",
       "        [ 0.66666667],\n",
       "        [ 0.        ]])"
      ]
     },
     "execution_count": 18,
     "metadata": {},
     "output_type": "execute_result"
    }
   ],
   "source": [
    "M = np.matrix([\n",
    "    [2,1,2],\n",
    "    [0,0,2],\n",
    "    [1,2,2]\n",
    "])\n",
    "V = np.matrix([\n",
    "    [0],\n",
    "    [0],\n",
    "    [1]\n",
    "])\n",
    "np.linalg.solve(M,V)"
   ]
  },
  {
   "cell_type": "code",
   "execution_count": 19,
   "metadata": {},
   "outputs": [
    {
     "data": {
      "text/plain": [
       "[0.0, 0.0, 1.0]"
      ]
     },
     "execution_count": 19,
     "metadata": {},
     "output_type": "execute_result"
    }
   ],
   "source": [
    "#Una vez más, aplicando el método de suma3vectores\n",
    "suma3vectores(mult_vector_escalar(-1/3,u),mult_vector_escalar(2/3,v),mult_vector_escalar(0,w))"
   ]
  },
  {
   "cell_type": "markdown",
   "metadata": {},
   "source": [
    "<span style=\"color:blue\"> Ejercicio 5:  \n",
    "Dadas las matrices $\n",
    "  A=\n",
    "  \\left[ {\\begin{array}{cc}\n",
    "   2 & -3 \\\\\n",
    "   -4 & 6\\\\\n",
    "  \\end{array} } \\right]\n",
    "$ , $\n",
    "  B=\n",
    "  \\left[ {\\begin{array}{cc}\n",
    "   8 & 4 \\\\\n",
    "   5 & 5\\\\\n",
    "  \\end{array} } \\right]\n",
    "$\n",
    "y $\n",
    "  C=\n",
    "  \\left[ {\\begin{array}{cc}\n",
    "   5 & -2 \\\\\n",
    "   3 & 1\\\\\n",
    "  \\end{array} } \\right]\n",
    "$, queremos verificar que AB=AC pero que B≠C.</style> "
   ]
  },
  {
   "cell_type": "code",
   "execution_count": 20,
   "metadata": {},
   "outputs": [
    {
     "data": {
      "text/plain": [
       "matrix([[ 1, -7],\n",
       "        [-2, 14]])"
      ]
     },
     "execution_count": 20,
     "metadata": {},
     "output_type": "execute_result"
    }
   ],
   "source": [
    "A = np.matrix([\n",
    "    [2,-3],\n",
    "    [-4,6]\n",
    "])\n",
    "B = np.matrix([\n",
    "    [8,4],\n",
    "    [5,5]\n",
    "])\n",
    "C = np.matrix([\n",
    "    [5,-2],\n",
    "    [3,1]\n",
    "])\n",
    "A * B"
   ]
  },
  {
   "cell_type": "code",
   "execution_count": 21,
   "metadata": {},
   "outputs": [
    {
     "data": {
      "text/plain": [
       "matrix([[ 1, -7],\n",
       "        [-2, 14]])"
      ]
     },
     "execution_count": 21,
     "metadata": {},
     "output_type": "execute_result"
    }
   ],
   "source": [
    "A * C"
   ]
  },
  {
   "cell_type": "markdown",
   "metadata": {},
   "source": [
    "El resultado es el mismo, sin embargo B ≠ C"
   ]
  },
  {
   "cell_type": "markdown",
   "metadata": {},
   "source": [
    "<span style=\"color:blue\"> Ejercicio 6 :  \n",
    "Dadas la matriz $\n",
    "  A=\n",
    "  \\left[ {\\begin{array}{cc}\n",
    "   3 & -6 \\\\\n",
    "   -1 & 2\\\\\n",
    "  \\end{array} } \\right]\n",
    "$ , construye una matriz B de 2 × 2 tal que AB sea igual a la matriz cero. Las columnas de B no deben ser iguales entre sí y deben ser distintas de cero.\n",
    ".</style> "
   ]
  },
  {
   "cell_type": "markdown",
   "metadata": {},
   "source": [
    " $\\left[ {\\begin{array}{cc}\n",
    "   3 & -6 \\\\\n",
    "   -1 & 2\\\\\n",
    "  \\end{array} } \\right]  \n",
    "  *\n",
    "  \\left[ {\\begin{array}{cc}\n",
    "   x & y \\\\\n",
    "   z & w\\\\\n",
    "  \\end{array} } \\right]    \n",
    "  =\n",
    "    \\left[ {\\begin{array}{cc}\n",
    "   0 & 0 \\\\\n",
    "   0 & 0\\\\\n",
    "  \\end{array} } \\right]  \n",
    "$ \n",
    "Tengo que hayar la solución a las siguientes ecuaciones\n",
    "\n",
    "3x-6z=0  \n",
    "3y-6w=0  \n",
    "-x+2z=0  \n",
    "-y+2w=0  \n",
    "\n",
    "Como podemos observar no es necesario ver que el rango de la matriz A es menor que dos para darnos cuenta de que las incógintas se relacionan entre sí de dos en dos (las x's con las z's y las y's con las w's)\n"
   ]
  },
  {
   "cell_type": "code",
   "execution_count": 22,
   "metadata": {},
   "outputs": [],
   "source": [
    "#Luego el resultado será\n",
    "#x=2z\n",
    "#y=2w    \n",
    "#Para que se cumpla la condición de que las columnas de B sean diferentes no podemos admitir entradas al procedimiento \n",
    "#de valores z=w y para que se cumpla la condición de que deben ser distintas de cero tampoco admito valores iguales a cero\n",
    "def solucion_ejercicio_6(z,w):\n",
    "    if z == 0 or w == 0:\n",
    "        return 'No se admiten valores igual a cero'\n",
    "    elif z == w:\n",
    "        return 'No se admiten valores iguales para z y w'\n",
    "    else:\n",
    "        return (2*z,2*w)\n"
   ]
  },
  {
   "cell_type": "markdown",
   "metadata": {},
   "source": [
    "Por ejemplo para una entrada z=1, w=2 tendríamos la solución (2,4):"
   ]
  },
  {
   "cell_type": "code",
   "execution_count": 23,
   "metadata": {},
   "outputs": [
    {
     "data": {
      "text/plain": [
       "(2, 4)"
      ]
     },
     "execution_count": 23,
     "metadata": {},
     "output_type": "execute_result"
    }
   ],
   "source": [
    "solucion_ejercicio_6(1,2)"
   ]
  },
  {
   "cell_type": "markdown",
   "metadata": {},
   "source": [
    "Con lo que nos quedaría la siguiente matriz:  \n",
    "\n",
    "$\\left[ {\\begin{array}{cc}\n",
    "   2 & 4 \\\\\n",
    "   1 & 2\\\\\n",
    "  \\end{array} } \\right]  \n",
    "$"
   ]
  },
  {
   "cell_type": "markdown",
   "metadata": {},
   "source": [
    "<span style=\"color:blue\"> Ejercicio 7:  \n",
    "Sarrus para el determinante de orden 3.  \n",
    "¿Cómo lo haríamos en Python?</style>"
   ]
  },
  {
   "cell_type": "code",
   "execution_count": 24,
   "metadata": {},
   "outputs": [],
   "source": [
    "def sarrus(M):\n",
    "    return ((M[0,0]*M[1,1]*M[2,2])+\n",
    "            (M[0,1]*M[1,2]*M[2,0])+\n",
    "            (M[0,2]*M[1,0]*M[2,1]))-((M[0,2]*M[1,1]*M[2,0])+\n",
    "            (M[2,1]*M[1,2]*M[0,0])+\n",
    "            (M[2,2]*M[1,0]*M[0,1]))\n",
    "    "
   ]
  },
  {
   "cell_type": "markdown",
   "metadata": {},
   "source": [
    "Comprobamos que funciona:"
   ]
  },
  {
   "cell_type": "code",
   "execution_count": 25,
   "metadata": {},
   "outputs": [
    {
     "data": {
      "text/plain": [
       "-6"
      ]
     },
     "execution_count": 25,
     "metadata": {},
     "output_type": "execute_result"
    }
   ],
   "source": [
    "M = np.matrix([\n",
    "    [2,1,2],\n",
    "    [0,0,2],\n",
    "    [1,2,2]\n",
    "])\n",
    "sarrus(M)"
   ]
  },
  {
   "cell_type": "code",
   "execution_count": 26,
   "metadata": {},
   "outputs": [
    {
     "data": {
      "text/plain": [
       "-6.0"
      ]
     },
     "execution_count": 26,
     "metadata": {},
     "output_type": "execute_result"
    }
   ],
   "source": [
    "np.linalg.det(M)"
   ]
  },
  {
   "cell_type": "markdown",
   "metadata": {},
   "source": [
    "<span style=\"color:blue\"> Ejercicio 8:  \n",
    "Sabemos que hay un modo directo en Python para calcular los rangos. Calcula el número de soluciones de estos tres sistemas de ecuaciones empleándolo.</style> "
   ]
  },
  {
   "cell_type": "markdown",
   "metadata": {},
   "source": [
    "> <span style=\"color:blue\">x<sub>1</sub> − 2x<sub>2</sub> + x<sub>3</sub> = 0 </style>  \n",
    "> <span style=\"color:blue\">2x<sub>2</sub>−8x<sub>3</sub>= 8  </style>  \n",
    "> <span style=\"color:blue\">−4x<sub>1</sub> + 5x<sub>2</sub> + 9x<sub>3</sub> =− 9</style>"
   ]
  },
  {
   "cell_type": "code",
   "execution_count": 27,
   "metadata": {},
   "outputs": [
    {
     "data": {
      "text/plain": [
       "3"
      ]
     },
     "execution_count": 27,
     "metadata": {},
     "output_type": "execute_result"
    }
   ],
   "source": [
    "M = np.matrix([\n",
    "    [1,-2,1],\n",
    "    [0,2,-8],\n",
    "    [-4,5,9]\n",
    "])\n",
    "MA = np.matrix([\n",
    "    [1,-2,1,0],\n",
    "    [0,2,-8,8],\n",
    "    [-4,5,9,-9]\n",
    "]) \n",
    "np.linalg.matrix_rank(M)"
   ]
  },
  {
   "cell_type": "code",
   "execution_count": 28,
   "metadata": {},
   "outputs": [
    {
     "data": {
      "text/plain": [
       "3"
      ]
     },
     "execution_count": 28,
     "metadata": {},
     "output_type": "execute_result"
    }
   ],
   "source": [
    "np.linalg.matrix_rank(MA)"
   ]
  },
  {
   "cell_type": "markdown",
   "metadata": {},
   "source": [
    "Luego es un sistema compatible determinado con una única solución."
   ]
  },
  {
   "cell_type": "markdown",
   "metadata": {},
   "source": [
    "> <span style=\"color:blue\">x<sub>2</sub> −4x<sub>3</sub> =8  </style>  \n",
    "> <span style=\"color:blue\">2x<sub>1</sub> −3x<sub>2</sub> + 2x<sub>3</sub> =1  </style>  \n",
    "> <span style=\"color:blue\">5x<sub>1</sub> −8x<sub>2</sub> + 7x<sub>3</sub> =1</style>"
   ]
  },
  {
   "cell_type": "code",
   "execution_count": 29,
   "metadata": {},
   "outputs": [
    {
     "data": {
      "text/plain": [
       "2"
      ]
     },
     "execution_count": 29,
     "metadata": {},
     "output_type": "execute_result"
    }
   ],
   "source": [
    "M = np.matrix([\n",
    "    [0,1,-4],\n",
    "    [2,-3,2],\n",
    "    [5,-8,7]\n",
    "])\n",
    "MA = np.matrix([\n",
    "    [0,1,-4,8],\n",
    "    [2,-3,2,1],\n",
    "    [5,-8,7,1]\n",
    "]) \n",
    "np.linalg.matrix_rank(M)"
   ]
  },
  {
   "cell_type": "code",
   "execution_count": 30,
   "metadata": {},
   "outputs": [
    {
     "data": {
      "text/plain": [
       "3"
      ]
     },
     "execution_count": 30,
     "metadata": {},
     "output_type": "execute_result"
    }
   ],
   "source": [
    "np.linalg.matrix_rank(MA)"
   ]
  },
  {
   "cell_type": "markdown",
   "metadata": {},
   "source": [
    "Luego es un sistema incompatible y no tiene solución"
   ]
  },
  {
   "cell_type": "markdown",
   "metadata": {},
   "source": [
    "> <span style=\"color:blue\">x<sub>1</sub> +x<sub>3</sub> =2  </style>  \n",
    "> <span style=\"color:blue\">2x<sub>1</sub> +3x<sub>2</sub> + x<sub>3</sub> =3  </style>  \n",
    "> <span style=\"color:blue\">3x<sub>1</sub> +3x<sub>2</sub> + 2x<sub>3</sub> =5</style>"
   ]
  },
  {
   "cell_type": "code",
   "execution_count": 31,
   "metadata": {},
   "outputs": [
    {
     "data": {
      "text/plain": [
       "2"
      ]
     },
     "execution_count": 31,
     "metadata": {},
     "output_type": "execute_result"
    }
   ],
   "source": [
    "M = np.matrix([\n",
    "    [1,0,1],\n",
    "    [2,3,1],\n",
    "    [3,3,2]\n",
    "])\n",
    "MA = np.matrix([\n",
    "    [1,0,1,2],\n",
    "    [2,3,1,3],\n",
    "    [3,3,2,5]    \n",
    "]) \n",
    "np.linalg.matrix_rank(M)"
   ]
  },
  {
   "cell_type": "code",
   "execution_count": 32,
   "metadata": {},
   "outputs": [
    {
     "data": {
      "text/plain": [
       "2"
      ]
     },
     "execution_count": 32,
     "metadata": {},
     "output_type": "execute_result"
    }
   ],
   "source": [
    "np.linalg.matrix_rank(MA)"
   ]
  },
  {
   "cell_type": "markdown",
   "metadata": {},
   "source": [
    "Luego es un sistema compatible indeterminado, es decir, tiene múltiples soluciones."
   ]
  },
  {
   "cell_type": "markdown",
   "metadata": {},
   "source": [
    "<span style=\"color:blue\"> Ejercicio 9:  \n",
    "Comprobar que r(x,y) para un ángulo $\\theta$ es una función lineal.</style> "
   ]
  },
  {
   "cell_type": "markdown",
   "metadata": {},
   "source": [
    "Para ver que se trata de una función lineal debemos comprobar si estas dos propiedades se cumplen:\n",
    "* Para cada vector v en V y cada escalar α en F, f (αv) = αf(v)  \n",
    "* Por cada dos vectores u y v en V, f (u + v) = f (u) + f (v)  "
   ]
  },
  {
   "cell_type": "markdown",
   "metadata": {},
   "source": [
    "r<sub>$\\theta$</sub>($\\alpha$x,$\\alpha$y) = $\n",
    "  \\left[ {\\begin{array}{cc}\n",
    "   cos\\theta & -sin\\theta \\\\\n",
    "   sin\\theta & cos\\theta \\\\\n",
    "  \\end{array} } \\right] \n",
    "  *\n",
    "  \\left[ {\\begin{array}{cc}\n",
    "   \\alpha x \\\\\n",
    "   \\alpha y \\\\\n",
    "  \\end{array} } \\right]\n",
    "  =\n",
    "  \\left[ {\\begin{array}{cc}\n",
    "   αx(cos\\theta)-αy(sin\\theta) \\\\\n",
    "   αx(sin\\theta)+αy(cos\\theta) \\\\\n",
    "  \\end{array} } \\right]\n",
    "  =\n",
    "  α *  \\left[ {\\begin{array}{cc}\n",
    "   x(cos\\theta)-y(sin\\theta) \\\\\n",
    "   x(sin\\theta)+y(cos\\theta) \\\\\n",
    "  \\end{array} } \\right]\n",
    "  = $\n",
    "  $\\alpha$ * r<sub>$\\theta$</sub>(x,y)\n"
   ]
  },
  {
   "cell_type": "markdown",
   "metadata": {},
   "source": [
    "r<sub>$\\theta$</sub>([(x<sub>1</sub>,y<sub>1</sub>)+(x<sub>2</sub>,y<sub>2</sub>)]) =\n",
    "$\n",
    "  \\left[ {\\begin{array}{cc}\n",
    "   cos\\theta & -sin\\theta \\\\\n",
    "   sin\\theta & cos\\theta \\\\\n",
    "  \\end{array} } \\right] \n",
    "  *\n",
    "  \\left[ {\\begin{array}{cc}\n",
    "   x_{1}+x_{2} \\\\\n",
    "   y_{1}+y_{2} \\\\\n",
    "  \\end{array} } \\right]\n",
    "  =\n",
    "  \\left[ {\\begin{array}{cc}\n",
    "   (x_{1}+x_{2}) * cos\\theta-(y_{1}+y_{2})*sin\\theta \\\\\n",
    "   (x_{1}+x_{2})*sin\\theta+(y_{1}+y_{2})*cos\\theta \\\\\n",
    "  \\end{array} } \\right]\n",
    "  \\left[ {\\begin{array}{cc}\n",
    "   x_{1}*cos\\theta+x_{2}*cos\\theta-y_{1}*sin\\theta-y_{2}*sin\\theta \\\\\n",
    "   x_{1}*sin\\theta+x_{2}*sin\\theta+y_{1}*cos\\theta+y_{2}*cos\\theta \\\\\n",
    "  \\end{array} } \\right]\n",
    "  =  \n",
    "  \\left[ {\\begin{array}{cc}\n",
    "   x_{1}*cos\\theta-y_{1}*sin\\theta+x_{2}*cos\\theta-y_{2}*sin\\theta \\\\\n",
    "   x_{1}*sin\\theta+y_{1}*cos\\theta+x_{2}*sin\\theta+y_{2}*cos\\theta \\\\\n",
    "  \\end{array} } \\right]=  \n",
    "  \\left[ {\\begin{array}{cc}\n",
    "   x_{1}*cos\\theta-y_{1}*sin\\theta \\\\\n",
    "   x_{1}*sin\\theta+y_{1}*cos\\theta \\\\\n",
    "  \\end{array} } \\right] +\n",
    "  \\left[ {\\begin{array}{cc}\n",
    "   x_{2}*cos\\theta-y_{2}*sin\\theta \\\\\n",
    "   x_{2}*sin\\theta+y_{2}*cos\\theta \\\\\n",
    "  \\end{array} } \\right] =  \n",
    "  $  \n",
    "  r<sub>$\\theta$</sub>(x<sub>1</sub>,y<sub>1</sub>) + r<sub>$\\theta$</sub>(x<sub>2</sub>,y<sub>2</sub>)"
   ]
  },
  {
   "cell_type": "markdown",
   "metadata": {},
   "source": [
    "<span style=\"color:blue\"> Ejercicio 10:  \n",
    "¿Cuál es la representación coordenada del vector v= [6, 3, 2, 5] en términos de los vectores [2, 2, 2, 3], [1, 0, −1, 0], [0, 1, 0, 1]?</style> "
   ]
  },
  {
   "cell_type": "code",
   "execution_count": 33,
   "metadata": {},
   "outputs": [
    {
     "data": {
      "text/plain": [
       "3"
      ]
     },
     "execution_count": 33,
     "metadata": {},
     "output_type": "execute_result"
    }
   ],
   "source": [
    "A=np.matrix([\n",
    "    [2,1,0],\n",
    "    [2,0,1],\n",
    "    [2,-1,0],\n",
    "    [3,0,1]\n",
    "])\n",
    "B=np.matrix([\n",
    "    [2,1,0,6],\n",
    "    [2,0,1,3],\n",
    "    [2,-1,0,2],\n",
    "    [3,0,1,5]\n",
    "])\n",
    "np.linalg.matrix_rank(A)\n",
    "np.linalg.matrix_rank(B)\n",
    "#El rango de ambas matrices es 3, luego es un SCD, una única solución, luego paso a resolverlo y obtengo \n",
    "#las coordenadas del vector [6,3,2,5] quitando una ecuación"
   ]
  },
  {
   "cell_type": "code",
   "execution_count": 34,
   "metadata": {},
   "outputs": [
    {
     "data": {
      "text/plain": [
       "matrix([[ 2.],\n",
       "        [ 2.],\n",
       "        [-1.]])"
      ]
     },
     "execution_count": 34,
     "metadata": {},
     "output_type": "execute_result"
    }
   ],
   "source": [
    "A=np.matrix([\n",
    "    [2,1,0],\n",
    "    [2,0,1],\n",
    "    [2,-1,0],    \n",
    "])\n",
    "B=np.matrix([\n",
    "    [6],\n",
    "    [3],\n",
    "    [2]\n",
    "])\n",
    "np.linalg.solve(A,B)"
   ]
  },
  {
   "cell_type": "markdown",
   "metadata": {},
   "source": [
    "<span style=\"color:blue\"> Ejercicio 11:  \n",
    "Supongamos que queremos diseñar la red de internet para el otro campus universitario.  \n",
    "La red debe lograr la misma conectividad que el grafo de entrada.  \n",
    "Una arista representa un posible cable.  \n",
    "El peso de la arista es el coste de instalar el cable.  \n",
    "Nuestro objetivo es minimizar el coste total, usando el algoritmo Grow y el algoritmo Shrink.  </style> "
   ]
  },
  {
   "cell_type": "markdown",
   "metadata": {},
   "source": [
    "**Algoritmo de Grow:**\n",
    "\n",
    "Ordenamos las aristas en orden creciente según sus pesos: {Bio-Med,Pembroke-Campus}, {Pembroke-Campus,Athletic-Complex}, {Athletic-Complex,Bio-Med}.\n",
    "\n",
    "Partimos del conjunto vacío de nodos. Tomamos la primera arista, como todavía estos nodos no están conectados, la agregamos a nuestra solución. \n",
    "\n",
    "S = ({Bio-Med, Pembroke-Campus})\n",
    "\n",
    "Para llegar a Ahtletic-Complex, se puede hacer a través de\n",
    "\n",
    "* {Pembroke-Campus,Athletic-Complex}\n",
    "* {Bio-Med,Athletic-Complex}\n",
    "\n",
    "La que menos pesa es la primera, por lo que añado esta y deshecho la última arista:\n",
    "\n",
    "S=({Bio-Med, Pembroke-Campus},{Pembroke-Campus,Athletic-Complex})\n",
    "\n",
    "\n"
   ]
  },
  {
   "cell_type": "markdown",
   "metadata": {},
   "source": [
    "**Algoritmo de Shrink**\n",
    "\n",
    "Ordenamos las aristas en orden decreciente según sus pesos: {Athletic-Complex,Bio-Med}, {Pembroke-Campus,Athletic-Complex},{Bio-Med,Pembroke-Campus}.\n",
    "\n",
    "Partimos del conjunto de todas las aristas. \n",
    "\n",
    "S=({Athletic-Complex,Bio-Med}, {Athletic-Complex,Pembroke-Campus},{Pembroke-Campus,Bio-Med})\n",
    "\n",
    "En la primera iteración vemos que podemos descartar la arista que va de Athletic-Complex a Bio-Med ya que existe un camino para llegar a Bio-Med. Luego,\n",
    "\n",
    "S=({Athletic-Complex,Pembroke-Campus},{Pembroke-Campus,Bio-Med})\n",
    "\n",
    "Y ya no puedo quitar más aristas, por lo que S es la solución.\n"
   ]
  },
  {
   "cell_type": "markdown",
   "metadata": {},
   "source": [
    "<span style=\"color:blue\"> Ejercicio 12:  \n",
    "Sea la matriz $\n",
    "  M=\n",
    "  \\left[ {\\begin{array}{cc}\n",
    "   1 & 0  & 0 & 5 \\\\\n",
    "   0 & 2  & 0 & 7 \\\\\n",
    "   0 & 0  & 3 & 9 \\\\\n",
    "  \\end{array} } \\right]\n",
    "$. Calcular el rango por filas y por columnas usando Python.</style> "
   ]
  },
  {
   "cell_type": "code",
   "execution_count": 35,
   "metadata": {},
   "outputs": [
    {
     "data": {
      "text/plain": [
       "3"
      ]
     },
     "execution_count": 35,
     "metadata": {},
     "output_type": "execute_result"
    }
   ],
   "source": [
    "M = np.matrix([\n",
    "    [1, 0, 0, 5],\n",
    "    [0, 2, 0, 7],\n",
    "    [0, 0, 3, 9]\n",
    "])\n",
    "rangoM = np.linalg.matrix_rank(M)\n",
    "rangoM"
   ]
  },
  {
   "cell_type": "code",
   "execution_count": 36,
   "metadata": {},
   "outputs": [
    {
     "data": {
      "text/plain": [
       "3"
      ]
     },
     "execution_count": 36,
     "metadata": {},
     "output_type": "execute_result"
    }
   ],
   "source": [
    "MT = np.transpose(M)\n",
    "rangoMT = np.linalg.matrix_rank(MT)\n",
    "rangoMT"
   ]
  },
  {
   "cell_type": "markdown",
   "metadata": {
    "collapsed": true
   },
   "source": [
    "<span style=\"color:blue\"> Ejercicio 13 (opcional):  \n",
    "Crea un algoritmo que transforme una matriz cualquiera en GF(2) en una matriz escalonada.</style> "
   ]
  },
  {
   "cell_type": "markdown",
   "metadata": {},
   "source": [
    "Debemos buscar para cada columna las filas que no tienen un cero en esa columna y si hay más de una, coger la primera y transformar el resto para que tengan ceros en esa posición."
   ]
  },
  {
   "cell_type": "code",
   "execution_count": 37,
   "metadata": {},
   "outputs": [],
   "source": [
    "def forma_escalonada(M):\n",
    "    cols = set(range(len(M[0])))\n",
    "    MEscalonada = []\n",
    "    filas_restantes = set(range(len(M)))\n",
    "    for c in cols:\n",
    "        filas_sin_ceros_en_c = [r for r in filas_restantes if M[r][c] != 0]\n",
    "        if filas_sin_ceros_en_c != []:\n",
    "            pivot = filas_sin_ceros_en_c[0]\n",
    "            MEscalonada.append(M[pivot])\n",
    "            filas_restantes.remove(pivot)\n",
    "            for r in filas_sin_ceros_en_c[1:]:\n",
    "                #Como estoy en GF(2) la unica posibilidad es que las dos filas tengan un 1 en la columna c, luego las \n",
    "                #sumo para obtener un cero\n",
    "                M[r] = suma_galois(M[r],M[pivot])\n",
    "    return MEscalonada        "
   ]
  },
  {
   "cell_type": "markdown",
   "metadata": {},
   "source": [
    "Lo probamos con la siguiente matriz:"
   ]
  },
  {
   "cell_type": "code",
   "execution_count": 38,
   "metadata": {},
   "outputs": [],
   "source": [
    "M=[[1,0,1],[0,1,1],[1,1,1]]"
   ]
  },
  {
   "cell_type": "code",
   "execution_count": 39,
   "metadata": {},
   "outputs": [
    {
     "data": {
      "text/plain": [
       "[[1, 0, 1], [0, 1, 1], [0, 0, 1]]"
      ]
     },
     "execution_count": 39,
     "metadata": {},
     "output_type": "execute_result"
    }
   ],
   "source": [
    "forma_escalonada(M)"
   ]
  },
  {
   "cell_type": "markdown",
   "metadata": {},
   "source": [
    "Este procedimiento devuelve la matriz escalonada sin las filas que se quedan todas a cero, por ejemplo con la siguiente matriz obtenemos una escalonada con una fila menos, que sería toda de ceros:"
   ]
  },
  {
   "cell_type": "code",
   "execution_count": 40,
   "metadata": {},
   "outputs": [],
   "source": [
    "M=[[1,0,1],[0,1,1],[1,1,0]]"
   ]
  },
  {
   "cell_type": "code",
   "execution_count": 41,
   "metadata": {},
   "outputs": [
    {
     "data": {
      "text/plain": [
       "[[1, 0, 1], [0, 1, 1]]"
      ]
     },
     "execution_count": 41,
     "metadata": {},
     "output_type": "execute_result"
    }
   ],
   "source": [
    "forma_escalonada(M)"
   ]
  },
  {
   "cell_type": "markdown",
   "metadata": {},
   "source": [
    "En este caso sabemos que estas dos filas forman una base para el espacio filas."
   ]
  },
  {
   "cell_type": "markdown",
   "metadata": {},
   "source": [
    "<span style=\"color:blue\"> Ejercicio 14:  \n",
    "Modificar lo necesario en los algoritmos para que funcionen y calculen el problema de la casa en llamas.</style>"
   ]
  },
  {
   "cell_type": "markdown",
   "metadata": {},
   "source": [
    "Definimos el producto interno en R<sup>2</sup> para los vectores u=(u<sub>1</sub>,u<sub>2</sub>) y v=(v<sub>1</sub>,v<sub>2</sub>) como el escalar: u<sub>1</sub> * v<sub>1</sub> + u<sub>2</sub> * v<sub>2</sub>"
   ]
  },
  {
   "cell_type": "code",
   "execution_count": 42,
   "metadata": {},
   "outputs": [],
   "source": [
    "def producto_interno(u,v):\n",
    "    return (u[0]*v[0] + u[1]*v[1])"
   ]
  },
  {
   "cell_type": "markdown",
   "metadata": {},
   "source": [
    "Por lo tanto, la fórmula de la proyección paralela que vimos en clase quedaría así:"
   ]
  },
  {
   "cell_type": "code",
   "execution_count": 43,
   "metadata": {},
   "outputs": [],
   "source": [
    "def proyeccion_paralela(b,a):\n",
    "    sigma = (producto_interno(b,a))/(producto_interno(a,a)) if producto_interno(a,a) > 10^-20 else 0\n",
    "    return mult_vector_escalar(sigma, a)"
   ]
  },
  {
   "cell_type": "markdown",
   "metadata": {},
   "source": [
    "Aplicando esto al caso concreto de la casa en llamas, tenemos el siguiente resultado:"
   ]
  },
  {
   "cell_type": "code",
   "execution_count": 44,
   "metadata": {},
   "outputs": [
    {
     "data": {
      "text/plain": [
       "[3.0, 1.0]"
      ]
     },
     "execution_count": 44,
     "metadata": {},
     "output_type": "execute_result"
    }
   ],
   "source": [
    "a=[6,2] #Es la calle\n",
    "b=[2,4] #Es el lugar donde está la casa\n",
    "proyeccion_paralela(b,a)"
   ]
  },
  {
   "cell_type": "markdown",
   "metadata": {},
   "source": [
    "Para la proyección ortogonal, debemos definir previamente la resta de vectores:"
   ]
  },
  {
   "cell_type": "code",
   "execution_count": 45,
   "metadata": {},
   "outputs": [],
   "source": [
    "def resta_vectores(v,w):\n",
    "    return [v[i]-w[i] for i in range(len(v))]"
   ]
  },
  {
   "cell_type": "code",
   "execution_count": 46,
   "metadata": {},
   "outputs": [],
   "source": [
    "def proyeccion_ortogonal(b,a):\n",
    "    return resta_vectores(b,proyeccion_paralela(b,a))"
   ]
  },
  {
   "cell_type": "markdown",
   "metadata": {},
   "source": [
    "Y en el caso de la casa en llamas tenemos el siguiente resultado:"
   ]
  },
  {
   "cell_type": "code",
   "execution_count": 47,
   "metadata": {},
   "outputs": [
    {
     "data": {
      "text/plain": [
       "[-1.0, 3.0]"
      ]
     },
     "execution_count": 47,
     "metadata": {},
     "output_type": "execute_result"
    }
   ],
   "source": [
    "proyeccion_ortogonal(b,a)"
   ]
  },
  {
   "cell_type": "markdown",
   "metadata": {},
   "source": [
    "Para averiguar si la distancia es menor de 3.5 y por tanto si la manguera llegaría a la casa, debemos obtener la norma de la proyección ortogonal. Sabemos que la raíz cuadrada de un número n es n<sup>1/2</sup>, con lo que me quedaría la siguiente definición de la norma:"
   ]
  },
  {
   "cell_type": "code",
   "execution_count": 48,
   "metadata": {},
   "outputs": [],
   "source": [
    "def norma(v):\n",
    "    return (v[0]**2+v[1]**2)**(1/2)"
   ]
  },
  {
   "cell_type": "code",
   "execution_count": 49,
   "metadata": {},
   "outputs": [
    {
     "data": {
      "text/plain": [
       "3.1622776601683795"
      ]
     },
     "execution_count": 49,
     "metadata": {},
     "output_type": "execute_result"
    }
   ],
   "source": [
    "norma(proyeccion_ortogonal(b,a))"
   ]
  },
  {
   "cell_type": "markdown",
   "metadata": {},
   "source": [
    "Vemos que la distancia es 3.1622776601683795, que es menor que 3.5, luego la casa se salva."
   ]
  },
  {
   "cell_type": "markdown",
   "metadata": {},
   "source": [
    "**Feedback**: Para mi las clases han estado bien, las he podido seguir, alguna cosa que me quedó un poco menos clara la he asimilado al volver a ver los vídeos. Personalmente prefiero lo que se hizo en las últimas clases, para mi lo ideal es descansar unos diez minutos entre las dos sesiones e intentar optimizar al máximo el tiempo, si se puede terminar un poco antes mejor (cuatro horas de clase de mates de 20:30 a 00:30 es muy heavy :-)), siempre y cuando se vea todo el temario."
   ]
  }
 ],
 "metadata": {
  "kernelspec": {
   "display_name": "Python 3",
   "language": "python",
   "name": "python3"
  },
  "language_info": {
   "codemirror_mode": {
    "name": "ipython",
    "version": 3
   },
   "file_extension": ".py",
   "mimetype": "text/x-python",
   "name": "python",
   "nbconvert_exporter": "python",
   "pygments_lexer": "ipython3",
   "version": "3.6.4"
  }
 },
 "nbformat": 4,
 "nbformat_minor": 2
}
